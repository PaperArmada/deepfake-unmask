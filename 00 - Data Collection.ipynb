{
 "cells": [
  {
   "cell_type": "code",
   "execution_count": 1,
   "id": "97565817",
   "metadata": {},
   "outputs": [],
   "source": [
    "import requests\n",
    "import cv2"
   ]
  },
  {
   "cell_type": "code",
   "execution_count": 2,
   "id": "897fc44f",
   "metadata": {},
   "outputs": [],
   "source": [
    "from bs4 import BeautifulSoup\n",
    "import re\n",
    "import os\n",
    "import time\n",
    "import pandas as pd\n",
    "import numpy as np"
   ]
  },
  {
   "cell_type": "code",
   "execution_count": 10,
   "id": "2d489592",
   "metadata": {},
   "outputs": [],
   "source": [
    "url = 'https://this-person-does-not-exist.com'\n",
    "path = './data/generated'"
   ]
  },
  {
   "cell_type": "code",
   "execution_count": 3,
   "id": "a43d1872",
   "metadata": {},
   "outputs": [
    {
     "name": "stdout",
     "output_type": "stream",
     "text": [
      "Retrieved 5 of targeted 5 images.\n"
     ]
    }
   ],
   "source": [
    "retrieve_n = 5\n",
    "retrieved = 0\n",
    "\n",
    "for image in range(retrieve_n):\n",
    "    \n",
    "    res = requests.get(url)\n",
    "    good_status = res.status_code == 200\n",
    "    wait_cycle = 0\n",
    "    failed_connection = False\n",
    "    \n",
    "    while not good_status:\n",
    "        wait_cycle += 1\n",
    "        print('Site did not respond. Retrying...')\n",
    "        if wait_cycle > 5:\n",
    "            print(f'Could not reach site. Terminating request. \\\n",
    "            Loop collected {retrieved} out of {retrieve_n} image(s) prior to lost connection.')\n",
    "            failed_connection = True\n",
    "            break\n",
    "        time.sleep(3)\n",
    "        res = requests.get(url)\n",
    "        good_status = res.status_code == 200\n",
    "\n",
    "    if failed_connection:\n",
    "        break\n",
    "\n",
    "    soup = BeautifulSoup(res.text, 'lxml')\n",
    "\n",
    "    if not os.path.exists(path):\n",
    "        os.mkdir(path)\n",
    "    \n",
    "    image_json = soup.find('img', {'id': 'avatar'})\n",
    "    image_link = url + image_json['src']\n",
    "    image_name = re.findall(\"avatar\\S+.jpg\", image_link)[0]\n",
    "    image_path = path + '/' + image_name\n",
    "    image_res = requests.get(image_link)\n",
    "\n",
    "    if image_res.status_code != 200:\n",
    "        continue\n",
    "\n",
    "    file = open(image_path, 'wb')\n",
    "    file.write(image_res.content)\n",
    "    file.close()\n",
    "    \n",
    "    retrieved += 1\n",
    "\n",
    "print(f'Retrieved {retrieved} of targeted {retrieve_n} images.')"
   ]
  },
  {
   "cell_type": "code",
   "execution_count": 3,
   "id": "c0d07899",
   "metadata": {},
   "outputs": [
    {
     "name": "stdout",
     "output_type": "stream",
     "text": [
      "Site did not respond. Retrying...\n",
      "Site did not respond. Retrying...\n",
      "Site did not respond. Retrying...\n",
      "Site did not respond. Retrying...\n",
      "Site did not respond. Retrying...\n",
      "Site did not respond. Retrying...\n",
      "Could not reach site. Terminating request. Loop collected 0 image(s) prior to lost connection.\n"
     ]
    }
   ],
   "source": [
    "for i in range(5):\n",
    "    \n",
    "    wait_cycle = 0\n",
    "    failed_connection = False\n",
    "    \n",
    "    while 100 != 200:\n",
    "        wait_cycle += 1\n",
    "        print('Site did not respond. Retrying...')\n",
    "        if wait_cycle > 5:\n",
    "            print(f'Could not reach site. Terminating request. Loop collected {i} image(s) prior to lost connection.')\n",
    "            failed_connection = True\n",
    "            break\n",
    "        time.sleep(1)\n",
    "\n",
    "    if failed_connection:\n",
    "        break\n",
    "    print(i)"
   ]
  },
  {
   "cell_type": "code",
   "execution_count": 4,
   "id": "409e4ec6",
   "metadata": {},
   "outputs": [
    {
     "data": {
      "text/plain": [
       "array([[[ 98, 101, 109],\n",
       "        [ 77,  80,  88],\n",
       "        [ 72,  75,  83],\n",
       "        ...,\n",
       "        [255, 245, 238],\n",
       "        [255, 241, 235],\n",
       "        [230, 214, 207]],\n",
       "\n",
       "       [[ 81,  81,  87],\n",
       "        [ 53,  51,  57],\n",
       "        [ 63,  59,  65],\n",
       "        ...,\n",
       "        [255, 247, 240],\n",
       "        [253, 239, 233],\n",
       "        [249, 233, 227]]], dtype=uint8)"
      ]
     },
     "execution_count": 4,
     "metadata": {},
     "output_type": "execute_result"
    }
   ],
   "source": [
    "# Image resizing from: https://www.tutorialkart.com/opencv/python/opencv-python-resize-image/\n",
    "\n",
    "img1 = cv2.imread('./data/generated/avatar-008390911eb28a25b6dcbbea9cb607ac.jpg', cv2.IMREAD_UNCHANGED)\n",
    "img1[:2]"
   ]
  },
  {
   "cell_type": "code",
   "execution_count": 5,
   "id": "7d819d1a",
   "metadata": {},
   "outputs": [],
   "source": [
    "width = 252\n",
    "height = 252\n",
    "dim = (width, height)\n",
    "resized = cv2.resize(img1, dim, interpolation = cv2.INTER_AREA)"
   ]
  },
  {
   "cell_type": "code",
   "execution_count": 6,
   "id": "9c22531e",
   "metadata": {},
   "outputs": [],
   "source": [
    "cv2.imshow('Image 1', resized)\n",
    "cv2.waitKey(0)\n",
    "cv2.destroyAllWindows()"
   ]
  },
  {
   "cell_type": "code",
   "execution_count": 14,
   "id": "8435f2a0",
   "metadata": {},
   "outputs": [],
   "source": [
    "res = requests.get(url)\n",
    "soup = BeautifulSoup(res.text, 'lxml')\n",
    "\n",
    "image_json = soup.find('img', {'id': 'avatar'})\n",
    "image_link = url + image_json['src']\n",
    "image_name = re.findall(\"avatar\\S+.jpg\", image_link)[0]\n",
    "image_path = path + '/' + image_name\n",
    "image_res = requests.get(image_link, stream=True).raw\n",
    "\n",
    "# raw image handling from: https://stackoverflow.com/questions/57539233/how-to-open-an-image-from-an-url-with-opencv-using-requests-from-python\n",
    "image = np.asarray(bytearray(image_res.read()), dtype=\"uint8\")\n",
    "image = cv2.imdecode(image, cv2.IMREAD_COLOR)\n",
    "\n",
    "width = 252\n",
    "height = 252\n",
    "dim = (width, height)\n",
    "resized = cv2.resize(image, dim, interpolation = cv2.INTER_AREA)\n",
    "\n",
    "cv2.imshow('Image 1', resized)\n",
    "cv2.waitKey(0)\n",
    "cv2.destroyAllWindows()"
   ]
  },
  {
   "cell_type": "code",
   "execution_count": 6,
   "id": "d9c719b2",
   "metadata": {
    "scrolled": true
   },
   "outputs": [
    {
     "data": {
      "text/html": [
       "<div>\n",
       "<style scoped>\n",
       "    .dataframe tbody tr th:only-of-type {\n",
       "        vertical-align: middle;\n",
       "    }\n",
       "\n",
       "    .dataframe tbody tr th {\n",
       "        vertical-align: top;\n",
       "    }\n",
       "\n",
       "    .dataframe thead th {\n",
       "        text-align: right;\n",
       "    }\n",
       "</style>\n",
       "<table border=\"1\" class=\"dataframe\">\n",
       "  <thead>\n",
       "    <tr style=\"text-align: right;\">\n",
       "      <th></th>\n",
       "      <th></th>\n",
       "      <th></th>\n",
       "      <th></th>\n",
       "      <th></th>\n",
       "      <th># PubFig Dataset v1.2 - eval_urls.txt - http://www.cs.columbia.edu/CAVE/databases/pubfig/</th>\n",
       "    </tr>\n",
       "  </thead>\n",
       "  <tbody>\n",
       "    <tr>\n",
       "      <th>#</th>\n",
       "      <th>person</th>\n",
       "      <th>imagenum</th>\n",
       "      <th>url</th>\n",
       "      <th>rect</th>\n",
       "      <td>md5sum</td>\n",
       "    </tr>\n",
       "    <tr>\n",
       "      <th rowspan=\"4\" valign=\"top\">Aaron Eckhart</th>\n",
       "      <th>1</th>\n",
       "      <th>http://farm1.static.flickr.com/119/288329997_19ebf1d7b3_o.jpg</th>\n",
       "      <th>248,92,338,182</th>\n",
       "      <th>a980a9e21c90ff62e57345fad53a56c8</th>\n",
       "      <td>NaN</td>\n",
       "    </tr>\n",
       "    <tr>\n",
       "      <th>2</th>\n",
       "      <th>http://farm1.static.flickr.com/35/99344798_f2ad604eda_o.jpg</th>\n",
       "      <th>267,138,419,290</th>\n",
       "      <th>8b2bc3a7a3b4a9d5826cd31ac9254924</th>\n",
       "      <td>NaN</td>\n",
       "    </tr>\n",
       "    <tr>\n",
       "      <th>4</th>\n",
       "      <th>http://2.bp.blogspot.com/_DxSfGxvclek/SH-K403dDuI/AAAAAAAAAC8/6TGJ67y8kZk/s320/Aaron%2BEckhart.jpg</th>\n",
       "      <th>32,39,94,101</th>\n",
       "      <th>994b9bfd1464936488458d2679e05520</th>\n",
       "      <td>NaN</td>\n",
       "    </tr>\n",
       "    <tr>\n",
       "      <th>5</th>\n",
       "      <th>http://2.bp.blogspot.com/_biK-MLwOHEc/RtXJ3nA4y5I/AAAAAAAAALM/fMGxP5sRK10/s320/aaroneckhart.jpg</th>\n",
       "      <th>75,66,183,174</th>\n",
       "      <th>d50214036344a000cdf1e68832acf33f</th>\n",
       "      <td>NaN</td>\n",
       "    </tr>\n",
       "    <tr>\n",
       "      <th>...</th>\n",
       "      <th>...</th>\n",
       "      <th>...</th>\n",
       "      <th>...</th>\n",
       "      <th>...</th>\n",
       "      <td>...</td>\n",
       "    </tr>\n",
       "    <tr>\n",
       "      <th rowspan=\"5\" valign=\"top\">William Macy</th>\n",
       "      <th>96</th>\n",
       "      <th>http://farm1.static.flickr.com/62/207526936_d9d5d4a75e_o.jpg</th>\n",
       "      <th>504,174,694,364</th>\n",
       "      <th>2df2257b04cd4f3c23ce95d67e867e2c</th>\n",
       "      <td>NaN</td>\n",
       "    </tr>\n",
       "    <tr>\n",
       "      <th>97</th>\n",
       "      <th>http://farm1.static.flickr.com/98/243909925_1aeba9954c_o.jpg</th>\n",
       "      <th>275,182,429,336</th>\n",
       "      <th>af91f80483ef3aa34ca2f80ab91c09b3</th>\n",
       "      <td>NaN</td>\n",
       "    </tr>\n",
       "    <tr>\n",
       "      <th>98</th>\n",
       "      <th>http://farm1.static.flickr.com/91/245712735_4d83608e75_o.jpg</th>\n",
       "      <th>908,564,1200,857</th>\n",
       "      <th>bd1e84385beed6c5dca4f90d044ddda3</th>\n",
       "      <td>NaN</td>\n",
       "    </tr>\n",
       "    <tr>\n",
       "      <th>99</th>\n",
       "      <th>http://farm1.static.flickr.com/33/39937487_72abc68cc2_o.jpg</th>\n",
       "      <th>373,259,479,365</th>\n",
       "      <th>d724cfd1decebac4d6ee79e799807f88</th>\n",
       "      <td>NaN</td>\n",
       "    </tr>\n",
       "    <tr>\n",
       "      <th>100</th>\n",
       "      <th>http://farm1.static.flickr.com/31/39937508_3fec58c312_o.jpg</th>\n",
       "      <th>180,298,442,560</th>\n",
       "      <th>d1910cdf30aa90c3436d69c6e18e35f4</th>\n",
       "      <td>NaN</td>\n",
       "    </tr>\n",
       "  </tbody>\n",
       "</table>\n",
       "<p>42462 rows × 1 columns</p>\n",
       "</div>"
      ],
      "text/plain": [
       "                                                                                                                          # PubFig Dataset v1.2 - eval_urls.txt - http://www.cs.columbia.edu/CAVE/databases/pubfig/\n",
       "#             person imagenum                                           url              rect                                                                         md5sum                                       \n",
       "Aaron Eckhart 1      http://farm1.static.flickr.com/119/288329997_19... 248,92,338,182   a980a9e21c90ff62e57345fad53a56c8                                                NaN                                       \n",
       "              2      http://farm1.static.flickr.com/35/99344798_f2ad... 267,138,419,290  8b2bc3a7a3b4a9d5826cd31ac9254924                                                NaN                                       \n",
       "              4      http://2.bp.blogspot.com/_DxSfGxvclek/SH-K403dD... 32,39,94,101     994b9bfd1464936488458d2679e05520                                                NaN                                       \n",
       "              5      http://2.bp.blogspot.com/_biK-MLwOHEc/RtXJ3nA4y... 75,66,183,174    d50214036344a000cdf1e68832acf33f                                                NaN                                       \n",
       "...                                                                                                                                                                      ...                                       \n",
       "William Macy  96     http://farm1.static.flickr.com/62/207526936_d9d... 504,174,694,364  2df2257b04cd4f3c23ce95d67e867e2c                                                NaN                                       \n",
       "              97     http://farm1.static.flickr.com/98/243909925_1ae... 275,182,429,336  af91f80483ef3aa34ca2f80ab91c09b3                                                NaN                                       \n",
       "              98     http://farm1.static.flickr.com/91/245712735_4d8... 908,564,1200,857 bd1e84385beed6c5dca4f90d044ddda3                                                NaN                                       \n",
       "              99     http://farm1.static.flickr.com/33/39937487_72ab... 373,259,479,365  d724cfd1decebac4d6ee79e799807f88                                                NaN                                       \n",
       "              100    http://farm1.static.flickr.com/31/39937508_3fec... 180,298,442,560  d1910cdf30aa90c3436d69c6e18e35f4                                                NaN                                       \n",
       "\n",
       "[42462 rows x 1 columns]"
      ]
     },
     "execution_count": 6,
     "metadata": {},
     "output_type": "execute_result"
    }
   ],
   "source": [
    "pd.read_csv('https://www.cs.columbia.edu/CAVE/databases/pubfig/download/eval_urls.txt', sep='\\t')"
   ]
  },
  {
   "cell_type": "code",
   "execution_count": 30,
   "id": "2a4e430e",
   "metadata": {},
   "outputs": [],
   "source": [
    "real_link = 'https://www.cs.columbia.edu/CAVE/databases/pubfig/download/eval_urls.txt'\n",
    "real_resp = requests.get(real_link)\n",
    "output = open('./data/real/real_images.txt', 'wb')\n",
    "output.write(real_resp.content)\n",
    "output.close()"
   ]
  },
  {
   "cell_type": "code",
   "execution_count": 31,
   "id": "762f171b",
   "metadata": {},
   "outputs": [],
   "source": [
    "# Approach to delete lines found here: https://pynative.com/python-delete-lines-from-file/\n",
    "\n",
    "with open('./data/real/real_images.txt', 'r') as input_data:\n",
    "    lines = input_data.readlines()"
   ]
  },
  {
   "cell_type": "code",
   "execution_count": 32,
   "id": "df8f6c0b",
   "metadata": {},
   "outputs": [
    {
     "data": {
      "text/plain": [
       "['# PubFig Dataset v1.2 - eval_urls.txt - http://www.cs.columbia.edu/CAVE/databases/pubfig/\\n',\n",
       " '#\\tperson\\timagenum\\turl\\trect\\tmd5sum\\n']"
      ]
     },
     "execution_count": 32,
     "metadata": {},
     "output_type": "execute_result"
    }
   ],
   "source": [
    "lines[:2]"
   ]
  },
  {
   "cell_type": "code",
   "execution_count": 33,
   "id": "772b2ee8",
   "metadata": {},
   "outputs": [],
   "source": [
    "with open('./data/real/real_images.txt', 'w') as input_data:\n",
    "    for number, line in enumerate(lines):\n",
    "        if number == 1:\n",
    "            input_data.write(line.strip('#\\t'))\n",
    "        else:\n",
    "            if number not in [0]:\n",
    "                input_data.write(line)"
   ]
  },
  {
   "cell_type": "code",
   "execution_count": 34,
   "id": "828f5131",
   "metadata": {},
   "outputs": [
    {
     "data": {
      "text/plain": [
       "['person\\timagenum\\turl\\trect\\tmd5sum\\n',\n",
       " 'Aaron Eckhart\\t1\\thttp://farm1.static.flickr.com/119/288329997_19ebf1d7b3_o.jpg\\t248,92,338,182\\ta980a9e21c90ff62e57345fad53a56c8\\n']"
      ]
     },
     "execution_count": 34,
     "metadata": {},
     "output_type": "execute_result"
    }
   ],
   "source": [
    "with open('./data/real/real_images.txt', 'r') as input_data:\n",
    "    lines = input_data.readlines()\n",
    "lines[:2]"
   ]
  },
  {
   "cell_type": "code",
   "execution_count": 15,
   "id": "4c86cc14",
   "metadata": {},
   "outputs": [
    {
     "data": {
      "text/html": [
       "<div>\n",
       "<style scoped>\n",
       "    .dataframe tbody tr th:only-of-type {\n",
       "        vertical-align: middle;\n",
       "    }\n",
       "\n",
       "    .dataframe tbody tr th {\n",
       "        vertical-align: top;\n",
       "    }\n",
       "\n",
       "    .dataframe thead th {\n",
       "        text-align: right;\n",
       "    }\n",
       "</style>\n",
       "<table border=\"1\" class=\"dataframe\">\n",
       "  <thead>\n",
       "    <tr style=\"text-align: right;\">\n",
       "      <th></th>\n",
       "      <th>person</th>\n",
       "      <th>imagenum</th>\n",
       "      <th>url</th>\n",
       "      <th>rect</th>\n",
       "      <th>md5sum</th>\n",
       "    </tr>\n",
       "  </thead>\n",
       "  <tbody>\n",
       "    <tr>\n",
       "      <th>0</th>\n",
       "      <td>Aaron Eckhart</td>\n",
       "      <td>1</td>\n",
       "      <td>http://farm1.static.flickr.com/119/288329997_1...</td>\n",
       "      <td>248,92,338,182</td>\n",
       "      <td>a980a9e21c90ff62e57345fad53a56c8</td>\n",
       "    </tr>\n",
       "    <tr>\n",
       "      <th>1</th>\n",
       "      <td>Aaron Eckhart</td>\n",
       "      <td>2</td>\n",
       "      <td>http://farm1.static.flickr.com/35/99344798_f2a...</td>\n",
       "      <td>267,138,419,290</td>\n",
       "      <td>8b2bc3a7a3b4a9d5826cd31ac9254924</td>\n",
       "    </tr>\n",
       "    <tr>\n",
       "      <th>2</th>\n",
       "      <td>Aaron Eckhart</td>\n",
       "      <td>4</td>\n",
       "      <td>http://2.bp.blogspot.com/_DxSfGxvclek/SH-K403d...</td>\n",
       "      <td>32,39,94,101</td>\n",
       "      <td>994b9bfd1464936488458d2679e05520</td>\n",
       "    </tr>\n",
       "    <tr>\n",
       "      <th>3</th>\n",
       "      <td>Aaron Eckhart</td>\n",
       "      <td>5</td>\n",
       "      <td>http://2.bp.blogspot.com/_biK-MLwOHEc/RtXJ3nA4...</td>\n",
       "      <td>75,66,183,174</td>\n",
       "      <td>d50214036344a000cdf1e68832acf33f</td>\n",
       "    </tr>\n",
       "    <tr>\n",
       "      <th>4</th>\n",
       "      <td>Aaron Eckhart</td>\n",
       "      <td>6</td>\n",
       "      <td>http://3.bp.blogspot.com/_bto58WjLomw/Rk1yrB-r...</td>\n",
       "      <td>65,66,133,134</td>\n",
       "      <td>626836ef2e4c2afdcaa6ad8bc1842778</td>\n",
       "    </tr>\n",
       "  </tbody>\n",
       "</table>\n",
       "</div>"
      ],
      "text/plain": [
       "          person  imagenum                                                url  \\\n",
       "0  Aaron Eckhart         1  http://farm1.static.flickr.com/119/288329997_1...   \n",
       "1  Aaron Eckhart         2  http://farm1.static.flickr.com/35/99344798_f2a...   \n",
       "2  Aaron Eckhart         4  http://2.bp.blogspot.com/_DxSfGxvclek/SH-K403d...   \n",
       "3  Aaron Eckhart         5  http://2.bp.blogspot.com/_biK-MLwOHEc/RtXJ3nA4...   \n",
       "4  Aaron Eckhart         6  http://3.bp.blogspot.com/_bto58WjLomw/Rk1yrB-r...   \n",
       "\n",
       "              rect                            md5sum  \n",
       "0   248,92,338,182  a980a9e21c90ff62e57345fad53a56c8  \n",
       "1  267,138,419,290  8b2bc3a7a3b4a9d5826cd31ac9254924  \n",
       "2     32,39,94,101  994b9bfd1464936488458d2679e05520  \n",
       "3    75,66,183,174  d50214036344a000cdf1e68832acf33f  \n",
       "4    65,66,133,134  626836ef2e4c2afdcaa6ad8bc1842778  "
      ]
     },
     "execution_count": 15,
     "metadata": {},
     "output_type": "execute_result"
    }
   ],
   "source": [
    "df_real = pd.read_csv('./data/real/real_images.txt', sep='\\t')\n",
    "df_real.head()"
   ]
  },
  {
   "cell_type": "code",
   "execution_count": 34,
   "id": "79be391a",
   "metadata": {},
   "outputs": [
    {
     "data": {
      "text/plain": [
       "'http://fanphotosource.com/harrison-ford/photos/harrison-ford-and_elizabeth-taylor/harrison-ford-elizabeth-taylor-0000101.jpg'"
      ]
     },
     "execution_count": 34,
     "metadata": {},
     "output_type": "execute_result"
    }
   ],
   "source": [
    "real_link = df_real['url'].sample(random_state=17).values[0]\n",
    "real_link"
   ]
  },
  {
   "cell_type": "code",
   "execution_count": 36,
   "id": "3f1a82f5",
   "metadata": {},
   "outputs": [],
   "source": [
    "real_link = 'http://www.firstshowing.net/img/harvey-dent-believe-350w.jpg'"
   ]
  },
  {
   "cell_type": "code",
   "execution_count": 44,
   "id": "95e5a575",
   "metadata": {},
   "outputs": [
    {
     "data": {
      "text/plain": [
       "'248,92,338,182'"
      ]
     },
     "execution_count": 44,
     "metadata": {},
     "output_type": "execute_result"
    }
   ],
   "source": [
    "df_real.loc[0, 'rect']"
   ]
  },
  {
   "cell_type": "code",
   "execution_count": 49,
   "id": "9e1a336d",
   "metadata": {},
   "outputs": [
    {
     "data": {
      "text/plain": [
       "[237, 102, 333, 198]"
      ]
     },
     "execution_count": 49,
     "metadata": {},
     "output_type": "execute_result"
    }
   ],
   "source": [
    "rect = '237,102,333,198'\n",
    "rect_vals = [int(x) for x in rect.split(',')]\n",
    "rect_vals"
   ]
  },
  {
   "cell_type": "code",
   "execution_count": 69,
   "id": "875aef3b",
   "metadata": {},
   "outputs": [
    {
     "data": {
      "text/plain": [
       "[169, 265]"
      ]
     },
     "execution_count": 69,
     "metadata": {},
     "output_type": "execute_result"
    }
   ],
   "source": [
    "face_center = [(rect_vals[0]-rect_vals[1])//2 + rect_vals[1],(rect_vals[2]-rect_vals[3])//2 + rect_vals[3]]\n",
    "face_center"
   ]
  },
  {
   "cell_type": "code",
   "execution_count": 60,
   "id": "74e3febe",
   "metadata": {},
   "outputs": [
    {
     "data": {
      "text/plain": [
       "(135, 135)"
      ]
     },
     "execution_count": 60,
     "metadata": {},
     "output_type": "execute_result"
    }
   ],
   "source": [
    "rect_height = rect_vals[0] - rect_vals[1]\n",
    "rect_width = rect_vals[2] - rect_vals[3]\n",
    "rect_height, rect_width"
   ]
  },
  {
   "cell_type": "code",
   "execution_count": 77,
   "id": "088a2877",
   "metadata": {},
   "outputs": [
    {
     "data": {
      "text/plain": [
       "202"
      ]
     },
     "execution_count": 77,
     "metadata": {},
     "output_type": "execute_result"
    }
   ],
   "source": [
    "padded_height = rect_height * 15//10\n",
    "padded_height"
   ]
  },
  {
   "cell_type": "code",
   "execution_count": 78,
   "id": "73a9b08b",
   "metadata": {},
   "outputs": [
    {
     "data": {
      "text/plain": [
       "202"
      ]
     },
     "execution_count": 78,
     "metadata": {},
     "output_type": "execute_result"
    }
   ],
   "source": [
    "padded_width = rect_width * 15//10\n",
    "padded_width"
   ]
  },
  {
   "cell_type": "code",
   "execution_count": 67,
   "id": "c8985273",
   "metadata": {},
   "outputs": [
    {
     "data": {
      "text/plain": [
       "148"
      ]
     },
     "execution_count": 67,
     "metadata": {},
     "output_type": "execute_result"
    }
   ],
   "source": [
    "px_square = max(padded_height, padded_width)\n",
    "px_square"
   ]
  },
  {
   "cell_type": "code",
   "execution_count": 89,
   "id": "ef85f906",
   "metadata": {},
   "outputs": [],
   "source": [
    "image_link = real_link\n",
    "image_res = requests.get(image_link, stream=True).raw\n",
    "\n",
    "# raw image handling from: https://stackoverflow.com/questions/57539233/how-to-open-an-image-from-an-url-with-opencv-using-requests-from-python\n",
    "image = np.asarray(bytearray(image_res.read()), dtype=\"uint8\")\n",
    "image = cv2.imdecode(image, cv2.IMREAD_COLOR)\n",
    "\n",
    "# crop image\n",
    "rect = '237,102,333,198' # this will be brought in from the dataframe\n",
    "rect_vals = [int(x) for x in rect.split(',')]\n",
    "face_center = [(rect_vals[0]-rect_vals[1])//2 + rect_vals[1],(rect_vals[2]-rect_vals[3])//2 + rect_vals[3]]\n",
    "rect_height = rect_vals[0] - rect_vals[1]\n",
    "rect_width = rect_vals[2] - rect_vals[3]\n",
    "padded_height = rect_height * 15//10\n",
    "padded_width = rect_width * 15//10\n",
    "px_square = max(padded_height, padded_width) # produce a square that is sure to capture target face\n",
    "offset = px_square//2\n",
    "\n",
    "image = image[face_center[0]-offset:face_center[0]+offset, face_center[1]-offset:rect_vals[2]+offset]\n",
    "\n",
    "# cv2.imshow('Image 1', image)\n",
    "# cv2.waitKey(0)\n",
    "# cv2.destroyAllWindows()\n",
    "\n",
    "width = 252\n",
    "height = 252\n",
    "dim = (width, height)\n",
    "# resized = cv2.resize(image, dim, interpolation = cv2.INTER_NEAREST) # Pretty bad\n",
    "# resized = cv2.resize(image, dim, interpolation = cv2.INTER_LINEAR) # Decent, but a little blurry\n",
    "# resized = cv2.resize(image, dim, interpolation = cv2.INTER_AREA) # Decent, but pixelated\n",
    "# resized = cv2.resize(image, dim, interpolation = cv2.INTER_CUBIC) # Impressive!\n",
    "resized = cv2.resize(image, dim, interpolation = cv2.INTER_LANCZOS4) # Very impressive!\n",
    "\n",
    "cv2.imshow('Image 1', resized)\n",
    "cv2.waitKey(0)\n",
    "cv2.destroyAllWindows()"
   ]
  },
  {
   "cell_type": "code",
   "execution_count": 35,
   "id": "1ad74fb1",
   "metadata": {},
   "outputs": [
    {
     "data": {
      "text/plain": [
       "array(['http://farm1.static.flickr.com/119/288329997_19ebf1d7b3_o.jpg',\n",
       "       'http://farm1.static.flickr.com/35/99344798_f2ad604eda_o.jpg',\n",
       "       'http://2.bp.blogspot.com/_DxSfGxvclek/SH-K403dDuI/AAAAAAAAAC8/6TGJ67y8kZk/s320/Aaron%2BEckhart.jpg',\n",
       "       'http://2.bp.blogspot.com/_biK-MLwOHEc/RtXJ3nA4y5I/AAAAAAAAALM/fMGxP5sRK10/s320/aaroneckhart.jpg',\n",
       "       'http://3.bp.blogspot.com/_bto58WjLomw/Rk1yrB-rEXI/AAAAAAAABGo/dy33tJJsjSE/s400/aaron_eckhart3.jpg'],\n",
       "      dtype=object)"
      ]
     },
     "execution_count": 35,
     "metadata": {},
     "output_type": "execute_result"
    }
   ],
   "source": [
    "df_real['url'].values[:5]"
   ]
  },
  {
   "cell_type": "code",
   "execution_count": 32,
   "id": "b7473e8c",
   "metadata": {},
   "outputs": [
    {
     "name": "stdout",
     "output_type": "stream",
     "text": [
      "0 is less than 5\n",
      "1 is less than 5\n",
      "2 is less than 5\n",
      "3 is less than 5\n",
      "4 is less than 5\n",
      "5 is not less than 5!\n",
      "6 is not less than 5!\n",
      "7 is not less than 5!\n",
      "8 is not less than 5!\n",
      "9 is not less than 5!\n"
     ]
    }
   ],
   "source": [
    "# broken_link_indices = []\n",
    "\n",
    "# for index, link in df_real['url'].values:\n",
    "#     try:\n",
    "#         requests.get(image_link, stream=True).raw\n",
    "#     except:\n",
    "#         broken_link_indices.append(index)\n",
    "\n"
   ]
  }
 ],
 "metadata": {
  "kernelspec": {
   "display_name": "Python 3 (ipykernel)",
   "language": "python",
   "name": "python3"
  },
  "language_info": {
   "codemirror_mode": {
    "name": "ipython",
    "version": 3
   },
   "file_extension": ".py",
   "mimetype": "text/x-python",
   "name": "python",
   "nbconvert_exporter": "python",
   "pygments_lexer": "ipython3",
   "version": "3.7.11"
  }
 },
 "nbformat": 4,
 "nbformat_minor": 5
}
