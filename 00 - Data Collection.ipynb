{
 "cells": [
  {
   "cell_type": "code",
   "execution_count": 2,
   "id": "08e154a0",
   "metadata": {},
   "outputs": [],
   "source": [
    "import requests\n",
    "import cv2"
   ]
  },
  {
   "cell_type": "code",
   "execution_count": 3,
   "id": "8ec09fb5",
   "metadata": {},
   "outputs": [],
   "source": [
    "from bs4 import BeautifulSoup\n",
    "import re\n",
    "import os\n",
    "import time\n",
    "import pandas as pd\n",
    "import numpy as np"
   ]
  },
  {
   "cell_type": "code",
   "execution_count": 59,
   "id": "bb3d8e36",
   "metadata": {},
   "outputs": [
    {
     "name": "stdout",
     "output_type": "stream",
     "text": [
      "Retrieved 5 of targeted 5 images.\n"
     ]
    }
   ],
   "source": [
    "url = 'https://this-person-does-not-exist.com'\n",
    "retrieve_n = 5\n",
    "retrieved = 0\n",
    "\n",
    "for image in range(retrieve_n):\n",
    "    \n",
    "    res = requests.get(url)\n",
    "    good_status = res.status_code == 200\n",
    "    wait_cycle = 0\n",
    "    failed_connection = False\n",
    "    \n",
    "    while not good_status:\n",
    "        wait_cycle += 1\n",
    "        print('Site did not respond. Retrying...')\n",
    "        if wait_cycle > 5:\n",
    "            print(f'Could not reach site. Terminating request. \\\n",
    "            Loop collected {retrieved} out of {retrieve_n} image(s) prior to lost connection.')\n",
    "            failed_connection = True\n",
    "            break\n",
    "        time.sleep(3)\n",
    "        res = requests.get(url)\n",
    "        good_status = res.status_code == 200\n",
    "\n",
    "    if failed_connection:\n",
    "        break\n",
    "\n",
    "    soup = BeautifulSoup(res.text, 'lxml')\n",
    "\n",
    "    path = './data/generated'\n",
    "    if not os.path.exists(path):\n",
    "        os.mkdir(path)\n",
    "    \n",
    "    image_json = soup.find('img', {'id': 'avatar'})\n",
    "    image_link = url + image_json['src']\n",
    "    image_name = re.findall(\"avatar\\S+.jpg\", image_link)[0]\n",
    "    image_path = path + '/' + image_name\n",
    "    image_res = requests.get(image_link)\n",
    "\n",
    "    if image_res.status_code != 200:\n",
    "        continue\n",
    "\n",
    "    file = open(image_path, 'wb')\n",
    "    file.write(image_res.content)\n",
    "    file.close()\n",
    "    \n",
    "    retrieved += 1\n",
    "\n",
    "print(f'Retrieved {retrieved} of targeted {retrieve_n} images.')"
   ]
  },
  {
   "cell_type": "code",
   "execution_count": 58,
   "id": "7b2b26c7",
   "metadata": {},
   "outputs": [
    {
     "name": "stdout",
     "output_type": "stream",
     "text": [
      "Site did not respond. Retrying...\n",
      "Site did not respond. Retrying...\n",
      "Site did not respond. Retrying...\n",
      "Site did not respond. Retrying...\n",
      "Site did not respond. Retrying...\n",
      "Site did not respond. Retrying...\n",
      "Could not reach site. Terminating request. Loop collected 0 image(s) prior to lost connection.\n"
     ]
    }
   ],
   "source": [
    "for i in range(5):\n",
    "    \n",
    "    wait_cycle = 0\n",
    "    failed_connection = False\n",
    "    \n",
    "    while 100 != 200:\n",
    "        wait_cycle += 1\n",
    "        print('Site did not respond. Retrying...')\n",
    "        if wait_cycle > 5:\n",
    "            print(f'Could not reach site. Terminating request. Loop collected {i} image(s) prior to lost connection.')\n",
    "            failed_connection = True\n",
    "            break\n",
    "        time.sleep(1)\n",
    "\n",
    "    if failed_connection:\n",
    "        break\n",
    "    print(i)"
   ]
  },
  {
   "cell_type": "code",
   "execution_count": null,
   "id": "96a4ffbf",
   "metadata": {},
   "outputs": [],
   "source": []
  }
 ],
 "metadata": {
  "kernelspec": {
   "display_name": "Python 3 (ipykernel)",
   "language": "python",
   "name": "python3"
  },
  "language_info": {
   "codemirror_mode": {
    "name": "ipython",
    "version": 3
   },
   "file_extension": ".py",
   "mimetype": "text/x-python",
   "name": "python",
   "nbconvert_exporter": "python",
   "pygments_lexer": "ipython3",
   "version": "3.7.11"
  }
 },
 "nbformat": 4,
 "nbformat_minor": 5
}
