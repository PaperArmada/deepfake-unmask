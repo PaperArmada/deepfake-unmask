{
 "cells": [
  {
   "cell_type": "markdown",
   "id": "aa48f973",
   "metadata": {},
   "source": [
    "# Preprocessing of Image Data for Convolutional Neural Net"
   ]
  },
  {
   "cell_type": "markdown",
   "id": "5c758e6c",
   "metadata": {},
   "source": [
    "## This approach was adopted from the following guide: [link](https://deeplizard.com/learn/video/LhEMXbjGV_4)"
   ]
  },
  {
   "cell_type": "code",
   "execution_count": 1,
   "id": "041ff9c7",
   "metadata": {},
   "outputs": [],
   "source": [
    "import os\n",
    "import glob\n",
    "import shutil\n",
    "import numpy as np\n",
    "import random"
   ]
  },
  {
   "cell_type": "code",
   "execution_count": 3,
   "id": "3a513e62",
   "metadata": {},
   "outputs": [
    {
     "name": "stdout",
     "output_type": "stream",
     "text": [
      "Current Working Directory: C:\\Users\\musou\\Documents\\GeneralAssembly\\DSI\\Projects\\deepfake-unmask\\data\n"
     ]
    },
    {
     "ename": "FileNotFoundError",
     "evalue": "[WinError 2] The system cannot find the file specified: './data/'",
     "output_type": "error",
     "traceback": [
      "\u001b[1;31m---------------------------------------------------------------------------\u001b[0m",
      "\u001b[1;31mFileNotFoundError\u001b[0m                         Traceback (most recent call last)",
      "\u001b[1;32m~\\AppData\\Local\\Temp/ipykernel_22900/4020537236.py\u001b[0m in \u001b[0;36m<module>\u001b[1;34m\u001b[0m\n\u001b[0;32m      1\u001b[0m \u001b[1;31m# Organize data into train, valid, test dirs\u001b[0m\u001b[1;33m\u001b[0m\u001b[1;33m\u001b[0m\u001b[0m\n\u001b[0;32m      2\u001b[0m \u001b[0mprint\u001b[0m\u001b[1;33m(\u001b[0m\u001b[1;34mf'Current Working Directory: {os.getcwd()}'\u001b[0m\u001b[1;33m)\u001b[0m\u001b[1;33m\u001b[0m\u001b[1;33m\u001b[0m\u001b[0m\n\u001b[1;32m----> 3\u001b[1;33m \u001b[0mos\u001b[0m\u001b[1;33m.\u001b[0m\u001b[0mchdir\u001b[0m\u001b[1;33m(\u001b[0m\u001b[1;34m'./data/'\u001b[0m\u001b[1;33m)\u001b[0m\u001b[1;33m\u001b[0m\u001b[1;33m\u001b[0m\u001b[0m\n\u001b[0m\u001b[0;32m      4\u001b[0m \u001b[1;32mif\u001b[0m \u001b[0mos\u001b[0m\u001b[1;33m.\u001b[0m\u001b[0mpath\u001b[0m\u001b[1;33m.\u001b[0m\u001b[0misdir\u001b[0m\u001b[1;33m(\u001b[0m\u001b[1;34m'train/real'\u001b[0m\u001b[1;33m)\u001b[0m \u001b[1;32mis\u001b[0m \u001b[1;32mFalse\u001b[0m\u001b[1;33m:\u001b[0m\u001b[1;33m\u001b[0m\u001b[1;33m\u001b[0m\u001b[0m\n\u001b[0;32m      5\u001b[0m     \u001b[0mos\u001b[0m\u001b[1;33m.\u001b[0m\u001b[0mmakedirs\u001b[0m\u001b[1;33m(\u001b[0m\u001b[1;34m'train/real'\u001b[0m\u001b[1;33m)\u001b[0m\u001b[1;33m\u001b[0m\u001b[1;33m\u001b[0m\u001b[0m\n",
      "\u001b[1;31mFileNotFoundError\u001b[0m: [WinError 2] The system cannot find the file specified: './data/'"
     ]
    }
   ],
   "source": [
    "# Organize data into train, valid, test dirs\n",
    "print(f'Current Working Directory: {os.getcwd()}')\n",
    "os.chdir('./data/')\n",
    "if os.path.isdir('train/real') is False:\n",
    "    os.makedirs('train/real')\n",
    "    os.makedirs('train/synthetic')\n",
    "    os.makedirs('valid/real')\n",
    "    os.makedirs('valid/synthetic')\n",
    "    os.makedirs('test/real')\n",
    "    os.makedirs('test/synthetic')\n",
    "    \n",
    "    os.chdir('./real/thumbnails128x128/')\n",
    "    for i in random.sample(glob.glob('*'), 5):\n",
    "        shutil.copy(i, './../../train/real')\n",
    "    for i in random.sample(glob.glob('*'), 5):\n",
    "        shutil.copy(i, './../../valid/real')\n",
    "    for i in random.sample(glob.glob('*'), 5):\n",
    "        shutil.copy(i, './../../test/real') \n",
    "        \n",
    "    os.chdir('./../../generated/Low Res')\n",
    "    for i in random.sample(glob.glob('*'), 5):\n",
    "        shutil.copy(i, './../../train/synthetic')        \n",
    "    for i in random.sample(glob.glob('*'), 5):\n",
    "        shutil.copy(i, './../../valid/synthetic')\n",
    "    for i in random.sample(glob.glob('*'), 5):\n",
    "        shutil.copy(i, './../../test/synthetic')\n",
    "\n",
    "    os.chdir('../../../../')"
   ]
  },
  {
   "cell_type": "code",
   "execution_count": null,
   "id": "4c983bde",
   "metadata": {},
   "outputs": [],
   "source": []
  }
 ],
 "metadata": {
  "kernelspec": {
   "display_name": "Python 3 (ipykernel)",
   "language": "python",
   "name": "python3"
  },
  "language_info": {
   "codemirror_mode": {
    "name": "ipython",
    "version": 3
   },
   "file_extension": ".py",
   "mimetype": "text/x-python",
   "name": "python",
   "nbconvert_exporter": "python",
   "pygments_lexer": "ipython3",
   "version": "3.9.7"
  }
 },
 "nbformat": 4,
 "nbformat_minor": 5
}
